{
 "cells": [
  {
   "cell_type": "code",
   "execution_count": 30,
   "id": "ae8f47ad-b134-44d7-8b44-24c0c3329081",
   "metadata": {},
   "outputs": [],
   "source": [
    "# Given an array of n numbers, give an algorithm which gives the element appearing maximum number of times?"
   ]
  },
  {
   "cell_type": "code",
   "execution_count": 20,
   "id": "017c1668-9b9c-4286-9dd2-4bc28af2177d",
   "metadata": {},
   "outputs": [
    {
     "name": "stdout",
     "output_type": "stream",
     "text": [
      "5 is missing\n"
     ]
    }
   ],
   "source": [
    "# Problem : We are given a list of n-1 integers and these integers are in the range of 1 to n . There are no\n",
    "# duplicates in the list. One of the integers is missing in the list. Give an algorithm to find that element Ex:\n",
    "# [1,2,4,6,3,7,8] 5 is the missing num.\n",
    "\n",
    "def FindMissing(arr):\n",
    "    n = len(arr) + 1 # adding +1 because one element is missing\n",
    "    current_sum = n * (n + 1) // 2\n",
    "    actual_sum = sum(arr)\n",
    "\n",
    "    return current_sum - actual_sum\n",
    "\n",
    "print(f\"{FindMissing([1,2,4,6,3,7,8])} is missing\")"
   ]
  },
  {
   "cell_type": "code",
   "execution_count": 29,
   "id": "a64aab9b-5cb1-419e-9665-2ed038811d2e",
   "metadata": {},
   "outputs": [
    {
     "name": "stdout",
     "output_type": "stream",
     "text": [
      "3 is odd occurrence\n"
     ]
    }
   ],
   "source": [
    "# Problem : Given an array of n positive numbers. All numbers occurs even number of times except 1 which\n",
    "# occurs odd number of times. Find that number in O(n) time and O(1) space. Ex: [1,2,3,2,3,1,3]. 3 is repeats odd\n",
    "# times.\n",
    "\n",
    "def OddOccurs(arr):\n",
    "    count_map = {}\n",
    "\n",
    "    for num in arr:\n",
    "        if num in count_map:\n",
    "            count_map[num] +=1\n",
    "        else:\n",
    "            count_map[num] = 1\n",
    "\n",
    "    for num, count in count_map.items():\n",
    "        if count % 2 != 0:\n",
    "            return num\n",
    "\n",
    "\n",
    "\n",
    "print(f\"{OddOccurs([1,2,3,2,3,1,3])} is odd occurrence\")"
   ]
  },
  {
   "cell_type": "code",
   "execution_count": null,
   "id": "cc54e389-0b7d-4b7b-a1e5-4df75ebb1bb3",
   "metadata": {},
   "outputs": [],
   "source": [
    "# Given an array of n elements. Find two elements in the array such that their sum is equal to given\n",
    "# element K."
   ]
  },
  {
   "cell_type": "code",
   "execution_count": 31,
   "id": "6ee8a617-f057-48d8-840e-05ec56f6a41e",
   "metadata": {},
   "outputs": [
    {
     "name": "stdout",
     "output_type": "stream",
     "text": [
      "The pair whose sum is closest to zero is: (-80, 85)\n"
     ]
    }
   ],
   "source": [
    "# Problem: Given an array of both positive and negative numbers, find two numbers such that their sum is\n",
    "# closest to 0. Ex: [ 1 ,60 ,-10, 70, -80,85]. Ans : -80,85.\n",
    "\n",
    "def find_closest_to_zero(arr):\n",
    "    # Sort the array\n",
    "    arr.sort()\n",
    "    \n",
    "    # Initialize variables\n",
    "    left = 0\n",
    "    right = len(arr) - 1\n",
    "    closest_sum = float('inf')\n",
    "    closest_pair = (arr[left], arr[right])\n",
    "    \n",
    "    # Two-pointer technique\n",
    "    while left < right:\n",
    "        current_sum = arr[left] + arr[right]\n",
    "        \n",
    "        # Update closest sum and pair if the current sum is closer to zero\n",
    "        if abs(current_sum) < abs(closest_sum):\n",
    "            closest_sum = current_sum\n",
    "            closest_pair = (arr[left], arr[right])\n",
    "        \n",
    "        # Move pointers based on the current sum\n",
    "        if current_sum < 0:\n",
    "            left += 1\n",
    "        else:\n",
    "            right -= 1\n",
    "            \n",
    "    return closest_pair\n",
    "\n",
    "# Example usage\n",
    "arr = [1, 60, -10, 70, -80, 85]\n",
    "closest_pair = find_closest_to_zero(arr)\n",
    "print(f\"The pair whose sum is closest to zero is: {closest_pair}\")\n"
   ]
  },
  {
   "cell_type": "code",
   "execution_count": null,
   "id": "68ea0f92-458e-4e65-9d89-1b9b1060fa1a",
   "metadata": {},
   "outputs": [],
   "source": [
    "# Given an array of n elements . Find three elements such that their sum is equal to the given\n",
    "# number."
   ]
  },
  {
   "cell_type": "code",
   "execution_count": 33,
   "id": "7b4cd6bf-8f22-4fd5-9416-935b2752aad5",
   "metadata": {},
   "outputs": [
    {
     "name": "stdout",
     "output_type": "stream",
     "text": [
      "(3, 4, 5)\n"
     ]
    }
   ],
   "source": [
    "# Problem : Given an array of n elements . Find three elements i, j, k in the array such that\n",
    "# i * i + j * j = k*k.\n",
    "\n",
    "def find_pythagorean_triplet(arr):\n",
    "    # Create a dictionary to store squared values\n",
    "    squared_map = {}\n",
    "    for num in arr:\n",
    "        squared_map[num * num] = num\n",
    "\n",
    "    # Iterate through pairs (i, j) and check for k\n",
    "    for i in range(len(arr)):\n",
    "        for j in range(i + 1, len(arr)):\n",
    "            i_squared = arr[i] * arr[i]\n",
    "            j_squared = arr[j] * arr[j]\n",
    "            sum_of_squares = i_squared + j_squared\n",
    "            \n",
    "            if sum_of_squares in squared_map:\n",
    "                k = squared_map[sum_of_squares]\n",
    "                return (arr[i], arr[j], k)\n",
    "    \n",
    "    return None\n",
    "\n",
    "# Example usage\n",
    "arr = [3, 1, 4, 6, 5]\n",
    "triplet = find_pythagorean_triplet(arr)\n",
    "if triplet:\n",
    "    print(triplet)\n",
    "else:\n",
    "    print(\"No Equal\")\n"
   ]
  },
  {
   "cell_type": "code",
   "execution_count": 34,
   "id": "b2104db3-734a-42c8-82df-3e8f8b0472d1",
   "metadata": {},
   "outputs": [
    {
     "name": "stdout",
     "output_type": "stream",
     "text": [
      "The majority element is 2\n"
     ]
    }
   ],
   "source": [
    "# Problem : An element is a majority if it appears more than n/2 times. Give an algorithm takes an array of n\n",
    "# element as argument and identifies a majority (if it exists).\n",
    "\n",
    "def find_majority_element(nums):\n",
    "    candidate = None\n",
    "    count = 0\n",
    "    \n",
    "    # Phase 1: Candidate Selection\n",
    "    for num in nums:\n",
    "        if count == 0:\n",
    "            candidate = num\n",
    "        count += (1 if num == candidate else -1)\n",
    "    \n",
    "    # Phase 2: Candidate Verification\n",
    "    count = 0\n",
    "    for num in nums:\n",
    "        if num == candidate:\n",
    "            count += 1\n",
    "    \n",
    "    # Check if the candidate is actually the majority element\n",
    "    if count > len(nums) // 2:\n",
    "        return candidate\n",
    "    else:\n",
    "        return None\n",
    "\n",
    "# Example usage\n",
    "arr = [2, 2, 1, 1, 1, 2, 2]\n",
    "majority_element = find_majority_element(arr)\n",
    "if majority_element is not None:\n",
    "    print(f\"The majority element is {majority_element}\")\n",
    "else:\n",
    "    print(\"No majority element found\")\n"
   ]
  },
  {
   "cell_type": "code",
   "execution_count": 36,
   "id": "9f5b39ea-0a51-4a45-ab04-833112c0c3b3",
   "metadata": {},
   "outputs": [
    {
     "name": "stdout",
     "output_type": "stream",
     "text": [
      "Row with maximum number of 0's: 3\n"
     ]
    }
   ],
   "source": [
    "# Problem 9 : Given n × n matrix, and in each row all 1’s are followed by 0’s. Find the row with the maximum\n",
    "# number of 0’s.\n",
    "\n",
    "def find_row_with_max_zeros(matrix):\n",
    "    n = len(matrix)\n",
    "    max_zeros = -1\n",
    "    row_index = -1\n",
    "\n",
    "    # Initialize the column pointer\n",
    "    j = n - 1\n",
    "    \n",
    "    # Iterate through each row\n",
    "    for i in range(n):\n",
    "        # Move the column pointer to the left while we encounter 0's\n",
    "        while j >= 0 and matrix[i][j] == 0:\n",
    "            j -= 1\n",
    "        \n",
    "        # Calculate the number of 0's in the current row\n",
    "        num_zeros = n - (j + 1)\n",
    "        \n",
    "        # Update the row with maximum number of 0's\n",
    "        if num_zeros > max_zeros:\n",
    "            max_zeros = num_zeros\n",
    "            row_index = i\n",
    "\n",
    "    return row_index\n",
    "\n",
    "# Example usage\n",
    "matrix = [\n",
    "    [1, 1, 1, 1, 0, 0],\n",
    "    [1, 1, 0, 0, 0, 0],\n",
    "    [1, 0, 0, 0, 0, 0],\n",
    "    [0, 0, 0, 0, 0, 0]\n",
    "]\n",
    "\n",
    "print(\"Row with maximum number of 0's:\", find_row_with_max_zeros(matrix))\n"
   ]
  },
  {
   "cell_type": "code",
   "execution_count": 37,
   "id": "e3875a09-0159-438e-a893-1ae63b1bf76a",
   "metadata": {},
   "outputs": [
    {
     "name": "stdout",
     "output_type": "stream",
     "text": [
      "Sorted array: [0, 0, 0, 0, 0, 1, 1, 1, 1, 1, 2, 2]\n"
     ]
    }
   ],
   "source": [
    "# Problem: Sort an array of 0’s, 1’s and 2’s [or R’s, G’s and B’s]: Given an array A[] consisting of 0’s, 1’s and\n",
    "# 2’s, give an algorithm for sorting A[].The algorithm should put all 0’s first, then all 1’s and finally all 2’s at the\n",
    "# end. Example Input = {0,1,1,0,1,2,1,2,0,0,0,1}, Output = {0,0,0,0,0,1,1,1,1,1,2,2}\n",
    "\n",
    "def sort_colors(arr):\n",
    "    low, mid, high = 0, 0, len(arr) - 1\n",
    "\n",
    "    while mid <= high:\n",
    "        if arr[mid] == 0:\n",
    "            # Swap arr[low] and arr[mid], then increment both low and mid\n",
    "            arr[low], arr[mid] = arr[mid], arr[low]\n",
    "            low += 1\n",
    "            mid += 1\n",
    "        elif arr[mid] == 1:\n",
    "            # If the element is 1, just move the mid pointer\n",
    "            mid += 1\n",
    "        else:  # arr[mid] == 2\n",
    "            # Swap arr[mid] and arr[high], then decrement high\n",
    "            arr[high], arr[mid] = arr[mid], arr[high]\n",
    "            high -= 1\n",
    "\n",
    "# Example usage\n",
    "arr = [0, 1, 1, 0, 1, 2, 1, 2, 0, 0, 0, 1]\n",
    "sort_colors(arr)\n",
    "print(\"Sorted array:\", arr)\n"
   ]
  }
 ],
 "metadata": {
  "kernelspec": {
   "display_name": "Python 3 (ipykernel)",
   "language": "python",
   "name": "python3"
  },
  "language_info": {
   "codemirror_mode": {
    "name": "ipython",
    "version": 3
   },
   "file_extension": ".py",
   "mimetype": "text/x-python",
   "name": "python",
   "nbconvert_exporter": "python",
   "pygments_lexer": "ipython3",
   "version": "3.12.0"
  }
 },
 "nbformat": 4,
 "nbformat_minor": 5
}
